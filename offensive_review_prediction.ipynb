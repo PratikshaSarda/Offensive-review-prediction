{
 "cells": [
  {
   "cell_type": "markdown",
   "metadata": {},
   "source": [
    "## Offensive Review Prediction"
   ]
  },
  {
   "cell_type": "markdown",
   "metadata": {},
   "source": [
    "### Importing required libraries"
   ]
  },
  {
   "cell_type": "code",
   "execution_count": 1,
   "metadata": {},
   "outputs": [],
   "source": [
    "import pandas as pd\n",
    "from sklearn.model_selection import train_test_split\n",
    "from sklearn.feature_extraction.text import TfidfVectorizer\n",
    "from sklearn.linear_model import LogisticRegression\n",
    "from sklearn.metrics import roc_auc_score\n",
    "import numpy as np\n",
    "import matplotlib.pyplot as plt\n",
    "import seaborn as sns"
   ]
  },
  {
   "cell_type": "markdown",
   "metadata": {},
   "source": [
    "### Reading csv file"
   ]
  },
  {
   "cell_type": "code",
   "execution_count": 2,
   "metadata": {},
   "outputs": [],
   "source": [
    "df = pd.read_csv('offensive_language_dataset.csv')"
   ]
  },
  {
   "cell_type": "code",
   "execution_count": 3,
   "metadata": {},
   "outputs": [
    {
     "data": {
      "text/html": [
       "<div>\n",
       "<style scoped>\n",
       "    .dataframe tbody tr th:only-of-type {\n",
       "        vertical-align: middle;\n",
       "    }\n",
       "\n",
       "    .dataframe tbody tr th {\n",
       "        vertical-align: top;\n",
       "    }\n",
       "\n",
       "    .dataframe thead th {\n",
       "        text-align: right;\n",
       "    }\n",
       "</style>\n",
       "<table border=\"1\" class=\"dataframe\">\n",
       "  <thead>\n",
       "    <tr style=\"text-align: right;\">\n",
       "      <th></th>\n",
       "      <th>Unnamed: 0</th>\n",
       "      <th>count</th>\n",
       "      <th>hate_speech</th>\n",
       "      <th>offensive_language</th>\n",
       "      <th>neither</th>\n",
       "      <th>class</th>\n",
       "      <th>tweet</th>\n",
       "    </tr>\n",
       "  </thead>\n",
       "  <tbody>\n",
       "    <tr>\n",
       "      <th>0</th>\n",
       "      <td>0</td>\n",
       "      <td>3</td>\n",
       "      <td>0</td>\n",
       "      <td>0</td>\n",
       "      <td>3</td>\n",
       "      <td>2</td>\n",
       "      <td>!!! RT @mayasolovely: As a woman you shouldn't...</td>\n",
       "    </tr>\n",
       "    <tr>\n",
       "      <th>1</th>\n",
       "      <td>1</td>\n",
       "      <td>3</td>\n",
       "      <td>0</td>\n",
       "      <td>3</td>\n",
       "      <td>0</td>\n",
       "      <td>1</td>\n",
       "      <td>!!!!! RT @mleew17: boy dats cold...tyga dwn ba...</td>\n",
       "    </tr>\n",
       "    <tr>\n",
       "      <th>2</th>\n",
       "      <td>2</td>\n",
       "      <td>3</td>\n",
       "      <td>0</td>\n",
       "      <td>3</td>\n",
       "      <td>0</td>\n",
       "      <td>1</td>\n",
       "      <td>!!!!!!! RT @UrKindOfBrand Dawg!!!! RT @80sbaby...</td>\n",
       "    </tr>\n",
       "    <tr>\n",
       "      <th>3</th>\n",
       "      <td>3</td>\n",
       "      <td>3</td>\n",
       "      <td>0</td>\n",
       "      <td>2</td>\n",
       "      <td>1</td>\n",
       "      <td>1</td>\n",
       "      <td>!!!!!!!!! RT @C_G_Anderson: @viva_based she lo...</td>\n",
       "    </tr>\n",
       "    <tr>\n",
       "      <th>4</th>\n",
       "      <td>4</td>\n",
       "      <td>6</td>\n",
       "      <td>0</td>\n",
       "      <td>6</td>\n",
       "      <td>0</td>\n",
       "      <td>1</td>\n",
       "      <td>!!!!!!!!!!!!! RT @ShenikaRoberts: The shit you...</td>\n",
       "    </tr>\n",
       "  </tbody>\n",
       "</table>\n",
       "</div>"
      ],
      "text/plain": [
       "   Unnamed: 0  count  hate_speech  offensive_language  neither  class  \\\n",
       "0           0      3            0                   0        3      2   \n",
       "1           1      3            0                   3        0      1   \n",
       "2           2      3            0                   3        0      1   \n",
       "3           3      3            0                   2        1      1   \n",
       "4           4      6            0                   6        0      1   \n",
       "\n",
       "                                               tweet  \n",
       "0  !!! RT @mayasolovely: As a woman you shouldn't...  \n",
       "1  !!!!! RT @mleew17: boy dats cold...tyga dwn ba...  \n",
       "2  !!!!!!! RT @UrKindOfBrand Dawg!!!! RT @80sbaby...  \n",
       "3  !!!!!!!!! RT @C_G_Anderson: @viva_based she lo...  \n",
       "4  !!!!!!!!!!!!! RT @ShenikaRoberts: The shit you...  "
      ]
     },
     "execution_count": 3,
     "metadata": {},
     "output_type": "execute_result"
    }
   ],
   "source": [
    "df.head()"
   ]
  },
  {
   "cell_type": "code",
   "execution_count": 4,
   "metadata": {},
   "outputs": [],
   "source": [
    "df = df[['class','tweet']]"
   ]
  },
  {
   "cell_type": "code",
   "execution_count": 5,
   "metadata": {
    "scrolled": true
   },
   "outputs": [
    {
     "data": {
      "text/html": [
       "<div>\n",
       "<style scoped>\n",
       "    .dataframe tbody tr th:only-of-type {\n",
       "        vertical-align: middle;\n",
       "    }\n",
       "\n",
       "    .dataframe tbody tr th {\n",
       "        vertical-align: top;\n",
       "    }\n",
       "\n",
       "    .dataframe thead th {\n",
       "        text-align: right;\n",
       "    }\n",
       "</style>\n",
       "<table border=\"1\" class=\"dataframe\">\n",
       "  <thead>\n",
       "    <tr style=\"text-align: right;\">\n",
       "      <th></th>\n",
       "      <th>class</th>\n",
       "      <th>tweet</th>\n",
       "    </tr>\n",
       "  </thead>\n",
       "  <tbody>\n",
       "    <tr>\n",
       "      <th>0</th>\n",
       "      <td>2</td>\n",
       "      <td>!!! RT @mayasolovely: As a woman you shouldn't...</td>\n",
       "    </tr>\n",
       "    <tr>\n",
       "      <th>1</th>\n",
       "      <td>1</td>\n",
       "      <td>!!!!! RT @mleew17: boy dats cold...tyga dwn ba...</td>\n",
       "    </tr>\n",
       "    <tr>\n",
       "      <th>2</th>\n",
       "      <td>1</td>\n",
       "      <td>!!!!!!! RT @UrKindOfBrand Dawg!!!! RT @80sbaby...</td>\n",
       "    </tr>\n",
       "    <tr>\n",
       "      <th>3</th>\n",
       "      <td>1</td>\n",
       "      <td>!!!!!!!!! RT @C_G_Anderson: @viva_based she lo...</td>\n",
       "    </tr>\n",
       "    <tr>\n",
       "      <th>4</th>\n",
       "      <td>1</td>\n",
       "      <td>!!!!!!!!!!!!! RT @ShenikaRoberts: The shit you...</td>\n",
       "    </tr>\n",
       "  </tbody>\n",
       "</table>\n",
       "</div>"
      ],
      "text/plain": [
       "   class                                              tweet\n",
       "0      2  !!! RT @mayasolovely: As a woman you shouldn't...\n",
       "1      1  !!!!! RT @mleew17: boy dats cold...tyga dwn ba...\n",
       "2      1  !!!!!!! RT @UrKindOfBrand Dawg!!!! RT @80sbaby...\n",
       "3      1  !!!!!!!!! RT @C_G_Anderson: @viva_based she lo...\n",
       "4      1  !!!!!!!!!!!!! RT @ShenikaRoberts: The shit you..."
      ]
     },
     "execution_count": 5,
     "metadata": {},
     "output_type": "execute_result"
    }
   ],
   "source": [
    "df.head()"
   ]
  },
  {
   "cell_type": "code",
   "execution_count": 6,
   "metadata": {},
   "outputs": [],
   "source": [
    "def method1(i):\n",
    "    i=i.split(':')\n",
    "    if len(i)==2:\n",
    "        return i[1]\n",
    "    else:\n",
    "        return i[0]\n",
    "df['tweet']=df['tweet'].apply(lambda i:method1(i))"
   ]
  },
  {
   "cell_type": "code",
   "execution_count": 7,
   "metadata": {},
   "outputs": [
    {
     "data": {
      "text/html": [
       "<div>\n",
       "<style scoped>\n",
       "    .dataframe tbody tr th:only-of-type {\n",
       "        vertical-align: middle;\n",
       "    }\n",
       "\n",
       "    .dataframe tbody tr th {\n",
       "        vertical-align: top;\n",
       "    }\n",
       "\n",
       "    .dataframe thead th {\n",
       "        text-align: right;\n",
       "    }\n",
       "</style>\n",
       "<table border=\"1\" class=\"dataframe\">\n",
       "  <thead>\n",
       "    <tr style=\"text-align: right;\">\n",
       "      <th></th>\n",
       "      <th>class</th>\n",
       "      <th>tweet</th>\n",
       "    </tr>\n",
       "  </thead>\n",
       "  <tbody>\n",
       "    <tr>\n",
       "      <th>0</th>\n",
       "      <td>2</td>\n",
       "      <td>As a woman you shouldn't complain about clean...</td>\n",
       "    </tr>\n",
       "    <tr>\n",
       "      <th>1</th>\n",
       "      <td>1</td>\n",
       "      <td>boy dats cold...tyga dwn bad for cuffin dat h...</td>\n",
       "    </tr>\n",
       "    <tr>\n",
       "      <th>2</th>\n",
       "      <td>1</td>\n",
       "      <td>You ever fuck a bitch and she start to cry? Y...</td>\n",
       "    </tr>\n",
       "    <tr>\n",
       "      <th>3</th>\n",
       "      <td>1</td>\n",
       "      <td>@viva_based she look like a tranny</td>\n",
       "    </tr>\n",
       "    <tr>\n",
       "      <th>4</th>\n",
       "      <td>1</td>\n",
       "      <td>The shit you hear about me might be true or i...</td>\n",
       "    </tr>\n",
       "  </tbody>\n",
       "</table>\n",
       "</div>"
      ],
      "text/plain": [
       "   class                                              tweet\n",
       "0      2   As a woman you shouldn't complain about clean...\n",
       "1      1   boy dats cold...tyga dwn bad for cuffin dat h...\n",
       "2      1   You ever fuck a bitch and she start to cry? Y...\n",
       "3      1                 @viva_based she look like a tranny\n",
       "4      1   The shit you hear about me might be true or i..."
      ]
     },
     "execution_count": 7,
     "metadata": {},
     "output_type": "execute_result"
    }
   ],
   "source": [
    "df.head()"
   ]
  },
  {
   "cell_type": "code",
   "execution_count": 9,
   "metadata": {},
   "outputs": [],
   "source": [
    "def method2(i):\n",
    "    if(i==1):\n",
    "        return 0\n",
    "    else:\n",
    "        return int(i)\n",
    "def method3(i):\n",
    "    if(i==2):\n",
    "        return 1\n",
    "    else:\n",
    "        return int(i)"
   ]
  },
  {
   "cell_type": "markdown",
   "metadata": {},
   "source": [
    "### Replace 1 by 0 and 2 by 1."
   ]
  },
  {
   "cell_type": "code",
   "execution_count": 10,
   "metadata": {},
   "outputs": [],
   "source": [
    "df['class']=df['class'].apply(lambda i:method2(i))\n",
    "df['class']=df['class'].apply(lambda i:method3(i))"
   ]
  },
  {
   "cell_type": "code",
   "execution_count": 11,
   "metadata": {},
   "outputs": [
    {
     "data": {
      "text/html": [
       "<div>\n",
       "<style scoped>\n",
       "    .dataframe tbody tr th:only-of-type {\n",
       "        vertical-align: middle;\n",
       "    }\n",
       "\n",
       "    .dataframe tbody tr th {\n",
       "        vertical-align: top;\n",
       "    }\n",
       "\n",
       "    .dataframe thead th {\n",
       "        text-align: right;\n",
       "    }\n",
       "</style>\n",
       "<table border=\"1\" class=\"dataframe\">\n",
       "  <thead>\n",
       "    <tr style=\"text-align: right;\">\n",
       "      <th></th>\n",
       "      <th>class</th>\n",
       "      <th>tweet</th>\n",
       "    </tr>\n",
       "  </thead>\n",
       "  <tbody>\n",
       "    <tr>\n",
       "      <th>0</th>\n",
       "      <td>1</td>\n",
       "      <td>As a woman you shouldn't complain about clean...</td>\n",
       "    </tr>\n",
       "    <tr>\n",
       "      <th>1</th>\n",
       "      <td>0</td>\n",
       "      <td>boy dats cold...tyga dwn bad for cuffin dat h...</td>\n",
       "    </tr>\n",
       "    <tr>\n",
       "      <th>2</th>\n",
       "      <td>0</td>\n",
       "      <td>You ever fuck a bitch and she start to cry? Y...</td>\n",
       "    </tr>\n",
       "    <tr>\n",
       "      <th>3</th>\n",
       "      <td>0</td>\n",
       "      <td>@viva_based she look like a tranny</td>\n",
       "    </tr>\n",
       "    <tr>\n",
       "      <th>4</th>\n",
       "      <td>0</td>\n",
       "      <td>The shit you hear about me might be true or i...</td>\n",
       "    </tr>\n",
       "  </tbody>\n",
       "</table>\n",
       "</div>"
      ],
      "text/plain": [
       "   class                                              tweet\n",
       "0      1   As a woman you shouldn't complain about clean...\n",
       "1      0   boy dats cold...tyga dwn bad for cuffin dat h...\n",
       "2      0   You ever fuck a bitch and she start to cry? Y...\n",
       "3      0                 @viva_based she look like a tranny\n",
       "4      0   The shit you hear about me might be true or i..."
      ]
     },
     "execution_count": 11,
     "metadata": {},
     "output_type": "execute_result"
    }
   ],
   "source": [
    "df.head()"
   ]
  },
  {
   "cell_type": "code",
   "execution_count": 12,
   "metadata": {},
   "outputs": [
    {
     "data": {
      "text/plain": [
       "0    20620\n",
       "1     4163\n",
       "Name: class, dtype: int64"
      ]
     },
     "execution_count": 12,
     "metadata": {},
     "output_type": "execute_result"
    }
   ],
   "source": [
    "df['class'].value_counts()"
   ]
  },
  {
   "cell_type": "code",
   "execution_count": 13,
   "metadata": {
    "scrolled": true
   },
   "outputs": [
    {
     "data": {
      "text/plain": [
       "<matplotlib.axes._subplots.AxesSubplot at 0x28dcb4d2a48>"
      ]
     },
     "execution_count": 13,
     "metadata": {},
     "output_type": "execute_result"
    },
    {
     "data": {
      "image/png": "[encoded data removed]",
      "text/plain": [
       "<Figure size 432x288 with 1 Axes>"
      ]
     },
     "metadata": {
      "needs_background": "light"
     },
     "output_type": "display_data"
    }
   ],
   "source": [
    "sns.countplot(df['class'])"
   ]
  },
  {
   "cell_type": "markdown",
   "metadata": {},
   "source": [
    "### Splitting training and testing data"
   ]
  },
  {
   "cell_type": "code",
   "execution_count": 14,
   "metadata": {},
   "outputs": [],
   "source": [
    "features_train, features_test, labels_train, labels_test = train_test_split(df['tweet'], df['class'], random_state = 42)"
   ]
  },
  {
   "cell_type": "markdown",
   "metadata": {},
   "source": [
    "### Applying TfidfVectorizer"
   ]
  },
  {
   "cell_type": "code",
   "execution_count": 15,
   "metadata": {},
   "outputs": [],
   "source": [
    "vect = TfidfVectorizer(min_df = 5).fit(features_train)\n",
    "features_train_vectorized = vect.transform(features_train)"
   ]
  },
  {
   "cell_type": "code",
   "execution_count": 78,
   "metadata": {},
   "outputs": [
    {
     "data": {
      "text/plain": [
       "{'rt': 22164,\n",
       " 'lynchiewcvb': 16343,\n",
       " 'big': 3869,\n",
       " 'night': 18471,\n",
       " 'at': 2906,\n",
       " 'wcvb': 28015,\n",
       " 'martha': 16726,\n",
       " 'coakley': 6158,\n",
       " 'charlie': 5591,\n",
       " 'baker': 3287,\n",
       " 'debate': 7465,\n",
       " 'here': 11959,\n",
       " 'bruins': 4759,\n",
       " 'minnesota': 17326,\n",
       " 'wild': 28429,\n",
       " 'world': 28661,\n",
       " 'series': 22887,\n",
       " 'game': 10607,\n",
       " 'not': 18669,\n",
       " 'one': 19113,\n",
       " 'bitch': 3991,\n",
       " 'is': 13333,\n",
       " 'texting': 25440,\n",
       " 'me': 16918,\n",
       " 'right': 21854,\n",
       " 'now': 18714,\n",
       " '000': 1,\n",
       " 'followers': 10063,\n",
       " '22': 658,\n",
       " 'inch': 13032,\n",
       " 'rims': 21878,\n",
       " '60': 1037,\n",
       " 'tv': 26759,\n",
       " 'and': 2456,\n",
       " 'straight': 24563,\n",
       " 'ass': 2857,\n",
       " 'teeth': 25352,\n",
       " 'but': 4965,\n",
       " 'text': 25437,\n",
       " 'messages': 17074,\n",
       " 'ima': 12923,\n",
       " 'kill': 14806,\n",
       " 'myself': 17998,\n",
       " '8220': 1168,\n",
       " 'm_rad': 16384,\n",
       " 'going': 11051,\n",
       " 'to': 26150,\n",
       " 'miss': 17365,\n",
       " 'these': 25766,\n",
       " 'bitches': 3997,\n",
       " 'so': 23819,\n",
       " 'much': 17838,\n",
       " '128557': 410,\n",
       " 'http': 12453,\n",
       " 'co': 6153,\n",
       " 'lupoqat2r9': 16285,\n",
       " '8221': 1169,\n",
       " 'far': 9535,\n",
       " 'she': 23077,\n",
       " 'resting': 21704,\n",
       " 'on': 19105,\n",
       " 'ol': 19050,\n",
       " 'girl': 10896,\n",
       " 'booty': 4361,\n",
       " 'all': 2230,\n",
       " 'funny': 10475,\n",
       " 'as': 2786,\n",
       " 'shit': 23174,\n",
       " 'billyrunaway': 3951,\n",
       " 'hope': 12343,\n",
       " 'larger': 15313,\n",
       " 'than': 25469,\n",
       " 'bird': 3965,\n",
       " 'we': 28024,\n",
       " 'went': 28153,\n",
       " 'through': 25936,\n",
       " 'together': 26175,\n",
       " 'them': 25667,\n",
       " 'montea_rollin': 17608,\n",
       " 'kayysavage': 14565,\n",
       " 'ion': 13282,\n",
       " 'talk': 25103,\n",
       " '128514': 369,\n",
       " 'even': 9240,\n",
       " 'can': 5161,\n",
       " 'you': 29246,\n",
       " 'name': 18079,\n",
       " 'lol': 16025,\n",
       " 'versacelaflare': 27479,\n",
       " 'everybody': 9252,\n",
       " 'turning': 26740,\n",
       " 'into': 13240,\n",
       " 'assholes': 2874,\n",
       " 'this': 25861,\n",
       " 'year': 29121,\n",
       " 'look': 16055,\n",
       " 'what': 28224,\n",
       " '8217': 1167,\n",
       " 've': 27419,\n",
       " 'have': 11761,\n",
       " 'done': 8215,\n",
       " 'us': 27258,\n",
       " 'lmaoo': 15940,\n",
       " 'was': 27921,\n",
       " 'sayin': 22540,\n",
       " 'same': 22387,\n",
       " 'statement': 24347,\n",
       " 'last': 15327,\n",
       " 'deeswaggyjay93': 7528,\n",
       " 'boozer': 4367,\n",
       " 'trash': 26439,\n",
       " 'bro': 4676,\n",
       " 'thinking': 25842,\n",
       " 'about': 1775,\n",
       " 'the': 25530,\n",
       " 'boom': 4342,\n",
       " 'waaay': 27810,\n",
       " 'ho': 12172,\n",
       " 'video': 27563,\n",
       " 'makes': 16524,\n",
       " 'laugh': 15356,\n",
       " 'least': 15456,\n",
       " 'once': 19109,\n",
       " 'day': 7388,\n",
       " 'there': 25719,\n",
       " 'yellow': 29144,\n",
       " 'thing': 25827,\n",
       " 'in': 13018,\n",
       " 'sky': 23516,\n",
       " 'don': 8200,\n",
       " 'know': 15012,\n",
       " 'make': 16516,\n",
       " 'of': 18920,\n",
       " 'it': 13386,\n",
       " 'dablueprint': 7113,\n",
       " 'nigeldixon1': 18430,\n",
       " 'just': 14342,\n",
       " 'think': 25838,\n",
       " 'if': 12771,\n",
       " 'alex': 2161,\n",
       " 'won': 28605,\n",
       " 'some': 23902,\n",
       " 'games': 10611,\n",
       " 'that': 25488,\n",
       " 'sorry': 23969,\n",
       " 'son': 23924,\n",
       " 'will': 28440,\n",
       " 'never': 18301,\n",
       " 'win': 28467,\n",
       " 'how': 12417,\n",
       " 'mich': 17137,\n",
       " 'time': 26039,\n",
       " 'hold': 12209,\n",
       " 'down': 8306,\n",
       " 'nigga': 18435,\n",
       " 'catch': 5354,\n",
       " 'waynel_jr': 27991,\n",
       " 'nipples': 18516,\n",
       " 'determine': 7723,\n",
       " 'whether': 28281,\n",
       " 'titties': 26097,\n",
       " 'are': 2700,\n",
       " 'or': 19220,\n",
       " 'mean': 16927,\n",
       " 'guess': 11398,\n",
       " 'start': 24333,\n",
       " 'using': 27277,\n",
       " 'again': 2005,\n",
       " 'since': 23394,\n",
       " 'faggot': 9464,\n",
       " 'facebook': 9434,\n",
       " 'blocked': 4165,\n",
       " 'for': 10095,\n",
       " 'saying': 22541,\n",
       " 'things': 25829,\n",
       " 'lady': 15224,\n",
       " 'gaga': 10579,\n",
       " 'its': 13405,\n",
       " 'gorg': 11131,\n",
       " 'out': 19317,\n",
       " 'anggxo': 2498,\n",
       " 'thinks': 25849,\n",
       " 'june': 14323,\n",
       " 'something': 23914,\n",
       " 'briiixo': 4651,\n",
       " 'mfvcmym': 17116,\n",
       " 'wish': 28516,\n",
       " 'twitter': 26837,\n",
       " 'had': 11536,\n",
       " 'stalk': 24292,\n",
       " 'button': 4987,\n",
       " 'well': 28137,\n",
       " 'fuck': 10373,\n",
       " 'yu': 29331,\n",
       " 'too': 26250,\n",
       " 'd0peshit0nly': 7074,\n",
       " 'be': 3554,\n",
       " 'having': 11766,\n",
       " 'no': 18552,\n",
       " 'job': 14037,\n",
       " 'future': 10497,\n",
       " 'education': 8787,\n",
       " 'amp': 2416,\n",
       " 'nerve': 18280,\n",
       " 'say': 22536,\n",
       " 'niggas': 18444,\n",
       " 'want': 27890,\n",
       " 'pussy': 20855,\n",
       " 'cause': 5374,\n",
       " '8230': 1171,\n",
       " 'tell': 25368,\n",
       " 'gtfo': 11374,\n",
       " 'my': 17964,\n",
       " 'face': 9433,\n",
       " 'fa': 9420,\n",
       " 'reason': 21378,\n",
       " 'smh': 23696,\n",
       " 'niggers': 18452,\n",
       " 'ur': 27240,\n",
       " 'music': 17910,\n",
       " 'knowledge': 15016,\n",
       " 'theomaxximus': 25694,\n",
       " 'chrus': 5890,\n",
       " 'still': 24476,\n",
       " 'supahot': 24810,\n",
       " 'tho': 25872,\n",
       " 'walks': 27869,\n",
       " 'up': 27201,\n",
       " 'teacher': 25290,\n",
       " 'with': 28533,\n",
       " 'test': 25421,\n",
       " 'drops': 8467,\n",
       " 'fohead': 10051,\n",
       " 'nb5vgdssgi': 18176,\n",
       " 'mr_ritchie_j': 17755,\n",
       " 'decided': 7479,\n",
       " 'drink': 8427,\n",
       " 'everclear': 9246,\n",
       " 'go': 11008,\n",
       " 'yankees': 29051,\n",
       " 'only': 19128,\n",
       " 'two': 26844,\n",
       " 'made': 16441,\n",
       " 'their': 25639,\n",
       " 'seat': 22764,\n",
       " 'rileycooper_14': 21874,\n",
       " 'your': 29286,\n",
       " 'nigger': 18449,\n",
       " 'fighter': 9760,\n",
       " 'huh': 12481,\n",
       " 'etaks2evil': 9203,\n",
       " 'when': 28262,\n",
       " 'good': 11091,\n",
       " 'pull': 20789,\n",
       " 'ever': 9245,\n",
       " '3529gvbxkt': 799,\n",
       " 'highclasscapri': 12042,\n",
       " 'show': 23264,\n",
       " 'tonight': 26225,\n",
       " 'feel': 9650,\n",
       " '128586': 433,\n",
       " 'omgggg': 19094,\n",
       " '128553': 406,\n",
       " 'la': 15203,\n",
       " 'place': 20111,\n",
       " 'where': 28269,\n",
       " 'see': 22790,\n",
       " 'baddest': 3230,\n",
       " 'bus': 4942,\n",
       " 'stop': 24530,\n",
       " 'porn': 20343,\n",
       " 'android': 2478,\n",
       " 'iphone': 13296,\n",
       " 'ipad': 13294,\n",
       " 'sex': 22931,\n",
       " 'xxx': 28974,\n",
       " 'japanese': 13667,\n",
       " 'young': 29258,\n",
       " 'hairy': 11574,\n",
       " 'cunt': 6968,\n",
       " 'creampied': 6785,\n",
       " 'rg3pobakkd': 21773,\n",
       " 'niccas': 18373,\n",
       " 'haircuts': 11570,\n",
       " 'iubb': 13481,\n",
       " 'im': 12914,\n",
       " 'bloomington': 4192,\n",
       " 'btown': 4801,\n",
       " 'ncaa': 18190,\n",
       " 'basketball': 3476,\n",
       " 'college': 6254,\n",
       " 'indiana': 13059,\n",
       " 'iu': 13480,\n",
       " 'hoosiers': 12336,\n",
       " 'itslegzzyo': 13435,\n",
       " 'yall': 29041,\n",
       " 'fuckin': 10396,\n",
       " 'yo': 29207,\n",
       " '128545': 398,\n",
       " 'directv': 7927,\n",
       " 'man': 16557,\n",
       " 'gonna': 11088,\n",
       " 'skins': 23495,\n",
       " 'gvldrve': 11469,\n",
       " 'satisfied_x': 22486,\n",
       " 'esj': 9168,\n",
       " 'got': 11151,\n",
       " 'ugly': 26986,\n",
       " 'hoes': 12192,\n",
       " 'yeah': 29116,\n",
       " 'leon': 15549,\n",
       " 'students': 24642,\n",
       " 'ain': 2078,\n",
       " 'making': 16531,\n",
       " 'better': 3797,\n",
       " '99': 1257,\n",
       " 'em': 8944,\n",
       " 'fugly': 10435,\n",
       " 'lyi': 16334,\n",
       " 'black': 4065,\n",
       " 'arguing': 2714,\n",
       " 'kiddsmy_pyt': 14783,\n",
       " 'new': 18311,\n",
       " 'boyfriend': 4462,\n",
       " 'every': 9250,\n",
       " 'week': 28091,\n",
       " 'tf': 25446,\n",
       " 'doin': 8150,\n",
       " 'hoe': 12185,\n",
       " 'lifeof_brandon': 15701,\n",
       " '100046729': 70,\n",
       " 'll': 15921,\n",
       " '128521': 376,\n",
       " 'gt': 11369,\n",
       " 'another': 2556,\n",
       " 'woman': 28597,\n",
       " 'gon': 11080,\n",
       " 'keep': 14601,\n",
       " 'coming': 6316,\n",
       " 'nothing': 18683,\n",
       " 'ya': 28997,\n",
       " 'dumb': 8571,\n",
       " 'fake': 9490,\n",
       " 'childish': 5741,\n",
       " 'mad': 16429,\n",
       " 'each': 8668,\n",
       " 'other': 19288,\n",
       " 'back': 3191,\n",
       " 'best': 3762,\n",
       " 'friends': 10301,\n",
       " 'lmao': 15938,\n",
       " 'gain': 10590,\n",
       " 'weight': 28112,\n",
       " 'ex': 9287,\n",
       " 'cant': 5194,\n",
       " 'let': 15576,\n",
       " 'mayormcginn': 16859,\n",
       " 'racial': 21076,\n",
       " 'minorities': 17329,\n",
       " 'weren': 28159,\n",
       " 'criminally': 6830,\n",
       " 'inclined': 13036,\n",
       " 'they': 25800,\n",
       " 'wouldn': 28697,\n",
       " 'worry': 28677,\n",
       " 'act': 1861,\n",
       " 'color': 6268,\n",
       " 'race': 21060,\n",
       " 'traitor': 26396,\n",
       " 'almost': 2291,\n",
       " 'forgot': 10130,\n",
       " '40': 869,\n",
       " 'tweets': 26802,\n",
       " 'members': 17012,\n",
       " 'non': 18616,\n",
       " 'traditional': 26380,\n",
       " 'religions': 21576,\n",
       " 'sub': 24687,\n",
       " 'human': 12489,\n",
       " 'rugbysocklad': 22202,\n",
       " 'lads': 15223,\n",
       " 'being': 3668,\n",
       " 'f3ujcyj4of': 9411,\n",
       " 'love': 16138,\n",
       " 'scally': 22566,\n",
       " 'lad': 15218,\n",
       " 'action': 1866,\n",
       " 'hot': 12386,\n",
       " 'trainers': 26390,\n",
       " 'lachlan': 15213,\n",
       " 'who': 28346,\n",
       " 'wants': 27895,\n",
       " 'washington': 27926,\n",
       " 'post': 20380,\n",
       " 'crist': 6843,\n",
       " 'democrat': 7610,\n",
       " 'lgzzyusekz': 15632,\n",
       " '2jcvv7qxqf': 723,\n",
       " 'morning': 17658,\n",
       " 'monday': 17563,\n",
       " 'truck': 26614,\n",
       " 'money': 17567,\n",
       " 'full': 10450,\n",
       " 'tank': 25133,\n",
       " 'didn': 7824,\n",
       " 'do': 8107,\n",
       " 'any': 2592,\n",
       " 'homework': 12269,\n",
       " 'tolerance': 26184,\n",
       " 'sharpening': 23049,\n",
       " 'knives': 15000,\n",
       " '200': 620,\n",
       " 'years': 29123,\n",
       " 'jihadis': 13960,\n",
       " 'been': 3631,\n",
       " 'pain': 19494,\n",
       " 'our': 19313,\n",
       " 'germanshepher10': 10780,\n",
       " 'crookedwren': 6857,\n",
       " 'allahpundit': 2235,\n",
       " 'jammiewf': 13646,\n",
       " 'kevhoeee916': 14693,\n",
       " 'couldn': 6658,\n",
       " 'trust': 26632,\n",
       " 'homies': 12272,\n",
       " 'could': 6655,\n",
       " 'staytrippyyyy_': 24370,\n",
       " 'bad': 3216,\n",
       " 'fucking': 10397,\n",
       " 'problem': 20606,\n",
       " 'kuhnatekuhnite': 15116,\n",
       " 'studlydubly': 24649,\n",
       " 'talkin': 25108,\n",
       " 'bout': 4431,\n",
       " 'gettin': 10798,\n",
       " 'butthurt': 4985,\n",
       " 'am': 2334,\n",
       " '_lostb0y': 1568,\n",
       " 'dick': 7807,\n",
       " 'nigguh': 18464,\n",
       " 'spitting': 24145,\n",
       " 'dat': 7330,\n",
       " 'crack': 6730,\n",
       " 'teairri': 25294,\n",
       " 'marie': 16664,\n",
       " 'crazy': 6772,\n",
       " 'poor': 20314,\n",
       " 'anything': 2598,\n",
       " 'her': 11955,\n",
       " 'bitter': 4029,\n",
       " 'andyheybro': 2480,\n",
       " 'distant': 8010,\n",
       " 'chugs': 5907,\n",
       " 'end': 9016,\n",
       " 'dried': 8419,\n",
       " 'remain': 21587,\n",
       " 'most': 17681,\n",
       " 'perfectly': 19836,\n",
       " 'heavy': 11860,\n",
       " 'guitars': 11417,\n",
       " 'recorded': 21429,\n",
       " 'inners': 13148,\n",
       " 'hanging': 11653,\n",
       " 'need': 18221,\n",
       " 'nfl': 18346,\n",
       " 'sunday': 24790,\n",
       " 'ndfootball': 18196,\n",
       " 'winston': 28498,\n",
       " 'connects': 6462,\n",
       " 'greene': 11275,\n",
       " 'slant': 23541,\n",
       " 'across': 1860,\n",
       " 'middle': 17185,\n",
       " 'score': 22653,\n",
       " 'ball': 3302,\n",
       " 'tied': 26006,\n",
       " '17': 495,\n",
       " 'nah': 18059,\n",
       " 'tried': 26537,\n",
       " 'set': 22907,\n",
       " 'ugliest': 26985,\n",
       " 'club': 6117,\n",
       " 'officially': 18949,\n",
       " 'more': 17642,\n",
       " 'dawg': 7380,\n",
       " 'wtf': 28743,\n",
       " 'yesterday': 29166,\n",
       " 'saw': 22532,\n",
       " 'red': 21438,\n",
       " 'hair': 11568,\n",
       " 'streaks': 24583,\n",
       " 'orange': 19222,\n",
       " 'combed': 6285,\n",
       " 'like': 15728,\n",
       " 'woody': 28624,\n",
       " 'wood': 28618,\n",
       " 'pecker': 19757,\n",
       " 'o3hika2fin': 18833,\n",
       " 'verkannt__': 27463,\n",
       " 'none': 18617,\n",
       " 'judge': 14267,\n",
       " '128524': 379,\n",
       " 'would': 28694,\n",
       " 'way': 27980,\n",
       " 'missing': 17378,\n",
       " 'ofay': 18923,\n",
       " 'scared': 22581,\n",
       " 'by': 5017,\n",
       " 'da': 7099,\n",
       " 'recent': 21412,\n",
       " 'happenings': 11672,\n",
       " 'chu': 5893,\n",
       " 'lamar': 15253,\n",
       " 'colored': 6270,\n",
       " 'folk': 10055,\n",
       " 'danielleekendra': 7244,\n",
       " 'omg': 19091,\n",
       " 'coughing': 6652,\n",
       " 'wiggas': 28422,\n",
       " 'tweet': 26786,\n",
       " '58386': 986,\n",
       " 'fuckkk': 10406,\n",
       " 'choking': 5815,\n",
       " '58385': 985,\n",
       " 'taught': 25194,\n",
       " 'ballers': 3309,\n",
       " 'starters': 24336,\n",
       " 'hoopin': 12330,\n",
       " 'wanna': 27886,\n",
       " 'guard': 11386,\n",
       " 'beauty_briii': 3600,\n",
       " 'classmates': 6028,\n",
       " 'offered': 18934,\n",
       " 'brownie': 4742,\n",
       " 'someone': 23909,\n",
       " 'said': 22338,\n",
       " 'trying': 26666,\n",
       " 'earn': 8689,\n",
       " 'points': 20237,\n",
       " 'protectyournet': 20699,\n",
       " 'wasting': 27946,\n",
       " '1more': 568,\n",
       " 'hr': 12435,\n",
       " 'till': 26029,\n",
       " 'retarded': 21716,\n",
       " '128541': 394,\n",
       " 'damn': 7186,\n",
       " 'karlie': 14490,\n",
       " 'redd': 21444,\n",
       " 'seen': 22803,\n",
       " 'junk': 14330,\n",
       " 'darkies': 7297,\n",
       " 'dgaf': 7776,\n",
       " 'maxin_betha': 16838,\n",
       " '80sbaby4life': 1161,\n",
       " 'gotta': 11162,\n",
       " 'chill': 5748,\n",
       " 'wit': 28523,\n",
       " 'his': 12114,\n",
       " '4thofjulyfly': 936,\n",
       " 'outfit': 19327,\n",
       " 'dominicanraf': 8189,\n",
       " 'uimf6sdi': 27006,\n",
       " '_wordtothewise': 1694,\n",
       " 'many': 16612,\n",
       " 'times': 26041,\n",
       " 'did': 7823,\n",
       " 'listen': 15855,\n",
       " 'song': 23926,\n",
       " 'today': 26157,\n",
       " 'peteyhoti': 19894,\n",
       " 'aubreykelson': 2963,\n",
       " 'ell': 8919,\n",
       " 'naw': 18164,\n",
       " 'dogs': 8147,\n",
       " 'run': 22217,\n",
       " 'ladies': 15221,\n",
       " 'lmaooo': 15941,\n",
       " '171': 496,\n",
       " 'cthagod': 6928,\n",
       " 'personality': 19867,\n",
       " '187': 509,\n",
       " 'words': 28638,\n",
       " 'single': 23409,\n",
       " 'niggaz': 18448,\n",
       " 'sweat': 24923,\n",
       " 'chick': 5721,\n",
       " 'confused': 6447,\n",
       " 'ok': 19036,\n",
       " 'ricky___m': 21832,\n",
       " 'frooooontin': 10328,\n",
       " 'hermosaalma': 11971,\n",
       " 'isn': 13361,\n",
       " 'ghetto': 10827,\n",
       " 'smart': 23671,\n",
       " 'https': 12454,\n",
       " 'mpazq3jswf': 17737,\n",
       " 'doing': 8151,\n",
       " 'idc': 12729,\n",
       " 'def': 7533,\n",
       " 'few': 9722,\n",
       " 'shades': 22974,\n",
       " 'darker': 7294,\n",
       " 'cutting': 7042,\n",
       " 'mama': 16552,\n",
       " 'grass': 11242,\n",
       " 'goes': 11046,\n",
       " 'frame': 10186,\n",
       " 'imdatdudefish': 12941,\n",
       " 'vivalakash': 27662,\n",
       " 'thotgoals': 25896,\n",
       " 'lessonswithkate': 15573,\n",
       " 'learn': 15447,\n",
       " 'jigg': 13951,\n",
       " 'really': 21355,\n",
       " 'circle': 5952,\n",
       " 'waiting': 27846,\n",
       " 'brownies': 4743,\n",
       " 'hooks': 12325,\n",
       " 'goodnight': 11101,\n",
       " 'stuck': 24638,\n",
       " 'twats': 26772,\n",
       " 'laughing': 15360,\n",
       " 'father': 9573,\n",
       " 'has': 11731,\n",
       " 'pouring': 20411,\n",
       " 'arizona': 2733,\n",
       " 'tea': 25284,\n",
       " 'themselves': 25681,\n",
       " 'meyakardashian': 17106,\n",
       " 'insane': 13160,\n",
       " 'twiterdeze_nuts': 26831,\n",
       " 'sentence': 22864,\n",
       " 'describes': 7683,\n",
       " 'eating': 8718,\n",
       " 'worth': 28690,\n",
       " 'awwwww': 3074,\n",
       " 'smith': 23708,\n",
       " 'broke': 4692,\n",
       " 'niggah': 18439,\n",
       " 'chuu': 5917,\n",
       " 'baka': 3280,\n",
       " 'anyways': 2602,\n",
       " 'lvndrdppqt': 16316,\n",
       " 'natural': 18152,\n",
       " 'care': 5248,\n",
       " 'fool': 10082,\n",
       " 'perm': 19848,\n",
       " 'hell': 11908,\n",
       " 'buy': 4996,\n",
       " 'dirty': 7931,\n",
       " 'panties': 19546,\n",
       " 'clearly': 6046,\n",
       " 'background': 3196,\n",
       " 'picture': 19993,\n",
       " 'hilareejay': 12065,\n",
       " 'hate': 11741,\n",
       " 'those': 25891,\n",
       " 'creepy': 6812,\n",
       " 'dolls': 8166,\n",
       " 'call': 5108,\n",
       " 'dada': 7120,\n",
       " 'daddy': 7123,\n",
       " 'nochillpaz': 18571,\n",
       " 'white': 28312,\n",
       " 'kids': 14790,\n",
       " 'favorite': 9593,\n",
       " 'activities': 1869,\n",
       " 'calling': 5116,\n",
       " 'people': 19815,\n",
       " 'xbox': 28854,\n",
       " 'pet': 19879,\n",
       " 'shooting': 23222,\n",
       " 'school': 22622,\n",
       " 'katmurda': 14535,\n",
       " 'nice': 18375,\n",
       " 'such': 24717,\n",
       " 'hard': 11691,\n",
       " 'explain': 9346,\n",
       " 'leelucas_': 15478,\n",
       " '128128': 297,\n",
       " 'callneeshcakey': 5122,\n",
       " 'pop': 20316,\n",
       " 'wop': 28633,\n",
       " 'loved': 16145,\n",
       " 'long': 16040,\n",
       " 'ma': 16388,\n",
       " 'jordan': 14150,\n",
       " 'watcha': 27951,\n",
       " 'stuff': 24655,\n",
       " 'alright': 2307,\n",
       " 'seriously': 22890,\n",
       " '128533': 388,\n",
       " 'believes116': 3691,\n",
       " 'ichoosetobeabstinent': 12712,\n",
       " 'homelessbitch': 12262,\n",
       " 'smoke': 23715,\n",
       " '_realthickjazz': 1619,\n",
       " '1inkkofrosess': 558,\n",
       " 'makem': 16519,\n",
       " 'eat': 8713,\n",
       " 'major': 16509,\n",
       " 'nomore': 18615,\n",
       " '128175': 336,\n",
       " '9996': 1268,\n",
       " '65039': 1058,\n",
       " '128584': 432,\n",
       " '128129': 298,\n",
       " '128079': 271,\n",
       " '128522': 377,\n",
       " 'youngsharpblack': 29282,\n",
       " 'tupactopus': 26726,\n",
       " 'get': 10785,\n",
       " 'free': 10236,\n",
       " 'weenie': 28098,\n",
       " 'hut': 12564,\n",
       " 'jrs': 14225,\n",
       " 'snakehaid': 23742,\n",
       " 'wsaleen15': 28736,\n",
       " 'rducppp': 21308,\n",
       " '2_synnseer': 698,\n",
       " 'rebelgirl2040': 21391,\n",
       " 'why': 28387,\n",
       " 'profile': 20628,\n",
       " 'armed': 2741,\n",
       " 'tooeffincool': 26257,\n",
       " 'oomf': 19159,\n",
       " '128527': 382,\n",
       " 'rakwonogod': 21137,\n",
       " 'line': 15806,\n",
       " 'leave': 15458,\n",
       " 'dragonflyjonez': 8347,\n",
       " 'bubba': 4805,\n",
       " 'alabama': 2131,\n",
       " 'youre': 29289,\n",
       " 'african': 1992,\n",
       " 'he': 11805,\n",
       " 'an': 2430,\n",
       " 'extra': 9374,\n",
       " 'er': 9114,\n",
       " 'baby': 3174,\n",
       " 'guinea': 11415,\n",
       " 'pig': 20008,\n",
       " 'cute': 7023,\n",
       " 'adorable': 1931,\n",
       " 'acting': 1865,\n",
       " 'deadspin': 7440,\n",
       " 'colombia': 6264,\n",
       " 'supporter': 24836,\n",
       " 'reminds': 21599,\n",
       " 'double': 8282,\n",
       " 'universal': 27138,\n",
       " 'language': 15298,\n",
       " 'jeut1isq1f': 13908,\n",
       " 'getting': 10799,\n",
       " 'vgnwcfgvsj': 27512,\n",
       " 'gorgeous': 11132,\n",
       " 'women': 28600,\n",
       " 'realize': 21347,\n",
       " 'attitude': 2949,\n",
       " 'kingjames': 14880,\n",
       " 'wear': 28042,\n",
       " 'shoes': 23209,\n",
       " 'missed': 17374,\n",
       " 'couch': 6648,\n",
       " 'shot': 23242,\n",
       " 'ray': 21274,\n",
       " 'allen': 2242,\n",
       " 'bailed': 3269,\n",
       " 'tryna_be_famous': 26669,\n",
       " 'brees': 4582,\n",
       " 'evysf5jfkt': 9276,\n",
       " 'walking': 27865,\n",
       " 'from': 10320,\n",
       " 'class': 6018,\n",
       " 'bonnet': 4317,\n",
       " 'zekejmiller': 29466,\n",
       " 'marcacaputo': 16627,\n",
       " 'met': 17084,\n",
       " 'politics': 20266,\n",
       " 'disrespect': 7998,\n",
       " 'rudy': 22195,\n",
       " 'giuliani': 10919,\n",
       " 'tsgnews': 26678,\n",
       " 'update': 27205,\n",
       " 'collegian': 6258,\n",
       " 'dressed': 8401,\n",
       " 'teletubby': 25366,\n",
       " 'charges': 5580,\n",
       " 'break': 4562,\n",
       " 'theft': 25625,\n",
       " 'chinese': 5769,\n",
       " 'food': 10072,\n",
       " 'leftovers': 15495,\n",
       " 'letmelive305': 15580,\n",
       " 'gga': 10821,\n",
       " 'ask': 2842,\n",
       " 'give': 10920,\n",
       " 'him': 12085,\n",
       " 'swerve': 24951,\n",
       " 'stay': 24360,\n",
       " 'lilbthebasedgod': 15750,\n",
       " 'nerdy': 18277,\n",
       " 'fat': 9564,\n",
       " 'yes': 29154,\n",
       " 'sir': 23421,\n",
       " 'fucked': 10384,\n",
       " 'basedgod': 3452,\n",
       " 'lil': 15741,\n",
       " 'zekncashe': 29467,\n",
       " 'question': 20992,\n",
       " 'snoop': 23792,\n",
       " 'dogg': 8142,\n",
       " 'og': 18970,\n",
       " 'told': 26183,\n",
       " 'jeffjam': 13803,\n",
       " 'toddgunter': 26162,\n",
       " 'cgoodwoman': 5499,\n",
       " 'else': 8936,\n",
       " 'teachers': 25291,\n",
       " 'constantly': 6491,\n",
       " 'pay': 19700,\n",
       " 'without': 28538,\n",
       " 'sunshine': 24805,\n",
       " 'find': 9802,\n",
       " 'shady': 22979,\n",
       " 'wigga': 28420,\n",
       " 'showysantoro': 23276,\n",
       " 'ryan': 22269,\n",
       " 'gosling': 11144,\n",
       " 'knocked': 15004,\n",
       " 'eva': 9223,\n",
       " 'mendes': 17029,\n",
       " 'swag': 24897,\n",
       " 'team': 25295,\n",
       " 'pat': 19642,\n",
       " 'summit': 24777,\n",
       " 'shikeattike': 23155,\n",
       " 'gone': 11083,\n",
       " 'off': 18924,\n",
       " 'minutes': 17338,\n",
       " 'later': 15340,\n",
       " 'playing': 20159,\n",
       " '2k': 726,\n",
       " 'until': 27184,\n",
       " 'further': 10491,\n",
       " 'notice': 18685,\n",
       " 'embrace': 8959,\n",
       " 'flip': 9968,\n",
       " 'group': 11337,\n",
       " 'mine': 17317,\n",
       " 'runoff': 22227,\n",
       " 'water': 27960,\n",
       " 'turds': 26730,\n",
       " 'pick': 19976,\n",
       " 'fukin': 10444,\n",
       " 'around': 2750,\n",
       " 'austin': 2989,\n",
       " 'somebody': 23904,\n",
       " 'kicked': 14767,\n",
       " 'nuteila': 18781,\n",
       " 'ling': 15812,\n",
       " 'calculate': 5095,\n",
       " 'circumference': 5959,\n",
       " 'threw': 25926,\n",
       " '2aueveeawn': 703,\n",
       " 'falls': 9507,\n",
       " 'quick': 21001,\n",
       " 'sand': 22411,\n",
       " 'surviving_queen': 24867,\n",
       " 'wet': 28185,\n",
       " 'shes': 23125,\n",
       " 'lick': 15672,\n",
       " 'wetter': 28192,\n",
       " 'then': 25682,\n",
       " 'before': 3646,\n",
       " 'crewz76': 6820,\n",
       " 'tupac': 26723,\n",
       " 'rap': 21195,\n",
       " 'offs': 18962,\n",
       " 'hillbilly': 12079,\n",
       " 'causewereguys': 5378,\n",
       " 'drop': 8459,\n",
       " 'quotes': 21024,\n",
       " 'witdiigcye': 28532,\n",
       " 'girlfriend': 10901,\n",
       " 'come': 6294,\n",
       " 'home': 12253,\n",
       " 'after': 1997,\n",
       " '_aly_baby_': 1405,\n",
       " 're': 21309,\n",
       " 'somthing': 23922,\n",
       " 'wrong': 28730,\n",
       " 'should': 23248,\n",
       " 'drunk': 8496,\n",
       " 'inlove': 13140,\n",
       " 'gun': 11429,\n",
       " 'bae': 3250,\n",
       " 'beyonc': 3815,\n",
       " '233': 664,\n",
       " '128520': 375,\n",
       " 'wyattnuckels': 28807,\n",
       " 'dariendaywalt': 7290,\n",
       " 'hear': 11829,\n",
       " 'likes': 15734,\n",
       " 'ohshitnigga': 19011,\n",
       " 'phuckedfame': 19967,\n",
       " 'thick': 25812,\n",
       " 'bones': 4309,\n",
       " 'style': 24678,\n",
       " '127817': 190,\n",
       " 'cfhis3l8bt': 5497,\n",
       " 'coons': 6570,\n",
       " 'watching': 27955,\n",
       " 'hip': 12097,\n",
       " 'hop': 12342,\n",
       " 'ohyounancihuh': 19020,\n",
       " 'talmbout': 25116,\n",
       " 'graduate': 11200,\n",
       " 'next': 18338,\n",
       " 'month': 17609,\n",
       " 'word': 28635,\n",
       " 'congrats': 6451,\n",
       " 'safe': 22328,\n",
       " 'handling': 11639,\n",
       " 'flee': 9935,\n",
       " 'th': 25460,\n",
       " 'use': 27266,\n",
       " 'old': 19051,\n",
       " 'flawless': 9929,\n",
       " 'front': 10323,\n",
       " 'desk': 7704,\n",
       " 'retake': 21714,\n",
       " 'hatin': 11749,\n",
       " 'pm': 20200,\n",
       " 'sweg': 24948,\n",
       " 'yid': 29187,\n",
       " 'nid': 18416,\n",
       " 'dating': 7343,\n",
       " 'precisely': 20468,\n",
       " 'brandnewandrew': 4521,\n",
       " 'harold': 11710,\n",
       " 'soon': 23943,\n",
       " 'starts': 24338,\n",
       " 'swore': 24986,\n",
       " 'iiak': 12833,\n",
       " 'boy': 4458,\n",
       " 'benny': 3737,\n",
       " 'heard': 11831,\n",
       " 'blasting': 4116,\n",
       " 'paper': 19553,\n",
       " 'stupid': 24671,\n",
       " 'teabagger': 25287,\n",
       " 'restaurant': 21702,\n",
       " 'customers': 7020,\n",
       " 'minimum': 17324,\n",
       " 'wage': 27829,\n",
       " 'fee': 9643,\n",
       " 'gjkxmziizs': 10929,\n",
       " 'ovotiluoverdose': 19392,\n",
       " 'flossinlawson11': 10000,\n",
       " 'sup': 24808,\n",
       " 'mqpqzlgckf': 17740,\n",
       " 'tolkienproverb': 26188,\n",
       " 'fairy': 9482,\n",
       " 'tale': 25095,\n",
       " 'does': 8134,\n",
       " 'deny': 7639,\n",
       " 'existence': 9323,\n",
       " 'sorrow': 23968,\n",
       " 'failure': 9477,\n",
       " 'ladysofchoice': 15230,\n",
       " 'avi': 3034,\n",
       " 'bigg_boss23': 3890,\n",
       " 'fights': 9765,\n",
       " 'females': 9686,\n",
       " 'bruh': 4754,\n",
       " 'kf6pxgkjxr': 14723,\n",
       " 'chrisworldpeace': 5883,\n",
       " 'blacks': 4088,\n",
       " 'faithfull_pussy': 9487,\n",
       " 'coolest': 6558,\n",
       " '128526': 381,\n",
       " 'dhoopin32': 7786,\n",
       " '128525': 380,\n",
       " '128536': 391,\n",
       " 'sister': 23437,\n",
       " 'gov': 11172,\n",
       " 'widd': 28400,\n",
       " 'issue': 13376,\n",
       " 'taexchanae': 25061,\n",
       " 'momma': 17553,\n",
       " 'dee': 7505,\n",
       " 'loyal': 16194,\n",
       " 'pose': 20358,\n",
       " 'main': 16498,\n",
       " 'side': 23326,\n",
       " 'd9rize': 7091,\n",
       " 'terrorfranchise': 25409,\n",
       " 'd9oxy': 7090,\n",
       " ...}"
      ]
     },
     "execution_count": 78,
     "metadata": {},
     "output_type": "execute_result"
    }
   ],
   "source": [
    "vect.vocabulary_"
   ]
  },
  {
   "cell_type": "markdown",
   "metadata": {},
   "source": [
    "### Using Logistic Regression Algorithm"
   ]
  },
  {
   "cell_type": "code",
   "execution_count": 17,
   "metadata": {},
   "outputs": [
    {
     "data": {
      "text/plain": [
       "0.7456581795278173"
      ]
     },
     "execution_count": 17,
     "metadata": {},
     "output_type": "execute_result"
    }
   ],
   "source": [
    "model = LogisticRegression()\n",
    "model.fit(features_train_vectorized, labels_train)\n",
    "predictions = model.predict(vect.transform(features_test))\n",
    "roc_auc_score(labels_test, predictions)"
   ]
  },
  {
   "cell_type": "code",
   "execution_count": 19,
   "metadata": {},
   "outputs": [
    {
     "data": {
      "text/plain": [
       "array([0], dtype=int64)"
      ]
     },
     "execution_count": 19,
     "metadata": {},
     "output_type": "execute_result"
    }
   ],
   "source": [
    "model.predict(vect.transform(['you are bitch']))"
   ]
  },
  {
   "cell_type": "markdown",
   "metadata": {},
   "source": [
    "### Using nltk for data cleaning"
   ]
  },
  {
   "cell_type": "code",
   "execution_count": 20,
   "metadata": {},
   "outputs": [],
   "source": [
    "import nltk\n",
    "from nltk.corpus import stopwords\n",
    "from nltk.stem.porter import PorterStemmer\n",
    "import re #regular expressions"
   ]
  },
  {
   "cell_type": "code",
   "execution_count": 21,
   "metadata": {},
   "outputs": [
    {
     "name": "stderr",
     "output_type": "stream",
     "text": [
      "[nltk_data] Downloading package stopwords to\n",
      "[nltk_data]     C:\\Users\\hp\\AppData\\Roaming\\nltk_data...\n",
      "[nltk_data]   Package stopwords is already up-to-date!\n"
     ]
    },
    {
     "data": {
      "text/plain": [
       "True"
      ]
     },
     "execution_count": 21,
     "metadata": {},
     "output_type": "execute_result"
    }
   ],
   "source": [
    "nltk.download('stopwords')"
   ]
  },
  {
   "cell_type": "code",
   "execution_count": 76,
   "metadata": {},
   "outputs": [],
   "source": [
    "review = re.sub('[^a-zA-Z]',' ',df['tweet'][0])"
   ]
  },
  {
   "cell_type": "code",
   "execution_count": 77,
   "metadata": {},
   "outputs": [
    {
     "data": {
      "text/plain": [
       "' As a woman you shouldn t complain about cleaning up your house   amp  as a man you should always take the trash out   '"
      ]
     },
     "execution_count": 77,
     "metadata": {},
     "output_type": "execute_result"
    }
   ],
   "source": [
    "review"
   ]
  },
  {
   "cell_type": "code",
   "execution_count": 24,
   "metadata": {},
   "outputs": [],
   "source": [
    "review = review.lower()"
   ]
  },
  {
   "cell_type": "code",
   "execution_count": 25,
   "metadata": {},
   "outputs": [],
   "source": [
    "review=review.split()"
   ]
  },
  {
   "cell_type": "code",
   "execution_count": 26,
   "metadata": {},
   "outputs": [],
   "source": [
    "review = [word for word in review if not word in set(stopwords.words('english'))]"
   ]
  },
  {
   "cell_type": "code",
   "execution_count": 27,
   "metadata": {},
   "outputs": [],
   "source": [
    "ps= PorterStemmer()"
   ]
  },
  {
   "cell_type": "code",
   "execution_count": 28,
   "metadata": {},
   "outputs": [],
   "source": [
    "review = [ps.stem(word) for word in review ]"
   ]
  },
  {
   "cell_type": "code",
   "execution_count": 29,
   "metadata": {},
   "outputs": [],
   "source": [
    "review = \" \".join(review)"
   ]
  },
  {
   "cell_type": "code",
   "execution_count": 30,
   "metadata": {},
   "outputs": [
    {
     "data": {
      "text/plain": [
       "'woman complain clean hous amp man alway take trash'"
      ]
     },
     "execution_count": 30,
     "metadata": {},
     "output_type": "execute_result"
    }
   ],
   "source": [
    "review"
   ]
  },
  {
   "cell_type": "code",
   "execution_count": 31,
   "metadata": {},
   "outputs": [],
   "source": [
    "df1 = pd.read_csv('offensive_language_dataset.csv')"
   ]
  },
  {
   "cell_type": "code",
   "execution_count": 32,
   "metadata": {},
   "outputs": [],
   "source": [
    "df1 = df1[['class','tweet']]"
   ]
  },
  {
   "cell_type": "code",
   "execution_count": 33,
   "metadata": {},
   "outputs": [],
   "source": [
    "df1['class']=df1['class'].apply(lambda i:method2(i))\n",
    "df1['class']=df1['class'].apply(lambda i:method3(i))"
   ]
  },
  {
   "cell_type": "code",
   "execution_count": 34,
   "metadata": {},
   "outputs": [
    {
     "data": {
      "text/plain": [
       "(24783, 2)"
      ]
     },
     "execution_count": 34,
     "metadata": {},
     "output_type": "execute_result"
    }
   ],
   "source": [
    "df1.shape"
   ]
  },
  {
   "cell_type": "code",
   "execution_count": 35,
   "metadata": {},
   "outputs": [],
   "source": [
    "corpus = []\n",
    "\n",
    "for i in range(0, 24783):\n",
    "    review = re.sub('[^a-zA-Z]',' ', df1.iloc[i,1])\n",
    "    \n",
    "    review = review.lower()\n",
    "    \n",
    "    review = review.split()\n",
    "    \n",
    "    review = [word for word in review if not word in set(stopwords.words('english'))]\n",
    "    \n",
    "    \n",
    "    ps = PorterStemmer()\n",
    "    \n",
    "    review = [ps.stem(word) for word in review ]\n",
    "    \n",
    "    review = \" \".join(review)\n",
    "    \n",
    "    corpus.append(review)"
   ]
  },
  {
   "cell_type": "code",
   "execution_count": 36,
   "metadata": {},
   "outputs": [],
   "source": [
    "from sklearn.feature_extraction.text import CountVectorizer"
   ]
  },
  {
   "cell_type": "code",
   "execution_count": 37,
   "metadata": {},
   "outputs": [],
   "source": [
    "features = CountVectorizer().fit_transform(corpus)"
   ]
  },
  {
   "cell_type": "code",
   "execution_count": 38,
   "metadata": {},
   "outputs": [],
   "source": [
    "labels = df.iloc[:, 0] \n",
    "\n",
    "#teain test spplit\n",
    "features_train, features_test, labels_train, labels_test = train_test_split(features, labels, random_state = 42)"
   ]
  },
  {
   "cell_type": "code",
   "execution_count": 39,
   "metadata": {},
   "outputs": [
    {
     "data": {
      "text/plain": [
       "LogisticRegression(C=1.0, class_weight=None, dual=False, fit_intercept=True,\n",
       "                   intercept_scaling=1, l1_ratio=None, max_iter=100,\n",
       "                   multi_class='auto', n_jobs=None, penalty='l2',\n",
       "                   random_state=None, solver='lbfgs', tol=0.0001, verbose=0,\n",
       "                   warm_start=False)"
      ]
     },
     "execution_count": 39,
     "metadata": {},
     "output_type": "execute_result"
    }
   ],
   "source": [
    "model = LogisticRegression()\n",
    "model.fit(features_train, labels_train)"
   ]
  },
  {
   "cell_type": "code",
   "execution_count": 40,
   "metadata": {},
   "outputs": [
    {
     "data": {
      "text/plain": [
       "0.928474448671398"
      ]
     },
     "execution_count": 40,
     "metadata": {},
     "output_type": "execute_result"
    }
   ],
   "source": [
    "predictions = model.predict(features_test)\n",
    "\n",
    "roc_auc_score(labels_test, predictions)"
   ]
  },
  {
   "cell_type": "markdown",
   "metadata": {},
   "source": [
    "### For better implementation I'm trying to check accuracy of different algorithms"
   ]
  },
  {
   "cell_type": "code",
   "execution_count": 41,
   "metadata": {},
   "outputs": [],
   "source": [
    "features_train, features_test, labels_train, labels_test = train_test_split(df1['tweet'],df1['class'],random_state = 42)"
   ]
  },
  {
   "cell_type": "code",
   "execution_count": 42,
   "metadata": {},
   "outputs": [
    {
     "data": {
      "text/plain": [
       "(6196,)"
      ]
     },
     "execution_count": 42,
     "metadata": {},
     "output_type": "execute_result"
    }
   ],
   "source": [
    "labels_test.shape"
   ]
  },
  {
   "cell_type": "code",
   "execution_count": 43,
   "metadata": {},
   "outputs": [
    {
     "data": {
      "text/plain": [
       "(18587,)"
      ]
     },
     "execution_count": 43,
     "metadata": {},
     "output_type": "execute_result"
    }
   ],
   "source": [
    "labels_train.shape"
   ]
  },
  {
   "cell_type": "code",
   "execution_count": 44,
   "metadata": {
    "scrolled": true
   },
   "outputs": [
    {
     "data": {
      "text/plain": [
       "2281     0\n",
       "15914    0\n",
       "18943    1\n",
       "16407    0\n",
       "13326    0\n",
       "12914    0\n",
       "21457    0\n",
       "12246    0\n",
       "13083    0\n",
       "19409    0\n",
       "Name: class, dtype: int64"
      ]
     },
     "execution_count": 44,
     "metadata": {},
     "output_type": "execute_result"
    }
   ],
   "source": [
    "labels_test[0:10]"
   ]
  },
  {
   "cell_type": "code",
   "execution_count": 45,
   "metadata": {},
   "outputs": [],
   "source": [
    "vect=CountVectorizer().fit(features_train)"
   ]
  },
  {
   "cell_type": "code",
   "execution_count": 47,
   "metadata": {},
   "outputs": [
    {
     "data": {
      "text/plain": [
       "29600"
      ]
     },
     "execution_count": 47,
     "metadata": {},
     "output_type": "execute_result"
    }
   ],
   "source": [
    "len(vect.get_feature_names())"
   ]
  },
  {
   "cell_type": "code",
   "execution_count": 48,
   "metadata": {},
   "outputs": [],
   "source": [
    "features_train_vectorized = vect.transform(features_train)"
   ]
  },
  {
   "cell_type": "markdown",
   "metadata": {},
   "source": [
    "### Using logistic Regression"
   ]
  },
  {
   "cell_type": "code",
   "execution_count": 49,
   "metadata": {},
   "outputs": [],
   "source": [
    "model = LogisticRegression()"
   ]
  },
  {
   "cell_type": "code",
   "execution_count": 50,
   "metadata": {},
   "outputs": [
    {
     "data": {
      "text/plain": [
       "LogisticRegression(C=1.0, class_weight=None, dual=False, fit_intercept=True,\n",
       "                   intercept_scaling=1, l1_ratio=None, max_iter=100,\n",
       "                   multi_class='auto', n_jobs=None, penalty='l2',\n",
       "                   random_state=None, solver='lbfgs', tol=0.0001, verbose=0,\n",
       "                   warm_start=False)"
      ]
     },
     "execution_count": 50,
     "metadata": {},
     "output_type": "execute_result"
    }
   ],
   "source": [
    "model.fit(features_train_vectorized, labels_train)"
   ]
  },
  {
   "cell_type": "code",
   "execution_count": 51,
   "metadata": {},
   "outputs": [],
   "source": [
    "from sklearn.metrics import roc_auc_score"
   ]
  },
  {
   "cell_type": "code",
   "execution_count": 52,
   "metadata": {},
   "outputs": [],
   "source": [
    "predictions = model.predict(vect.transform(features_test))"
   ]
  },
  {
   "cell_type": "code",
   "execution_count": 53,
   "metadata": {},
   "outputs": [],
   "source": [
    "lr_score=roc_auc_score(labels_test, predictions)"
   ]
  },
  {
   "cell_type": "code",
   "execution_count": 54,
   "metadata": {},
   "outputs": [
    {
     "data": {
      "text/plain": [
       "0.9216578105622905"
      ]
     },
     "execution_count": 54,
     "metadata": {},
     "output_type": "execute_result"
    }
   ],
   "source": [
    "lr_score"
   ]
  },
  {
   "cell_type": "code",
   "execution_count": 55,
   "metadata": {},
   "outputs": [
    {
     "name": "stdout",
     "output_type": "stream",
     "text": [
      "you are bitch is Not acceptable comment\n"
     ]
    }
   ],
   "source": [
    "if model.predict(vect.transform(['you are bitch']))[0]==0:\n",
    "    print('you are bitch is Not acceptable comment')\n",
    "else:\n",
    "    print('you are bitch is Acceptable comment')"
   ]
  },
  {
   "cell_type": "code",
   "execution_count": 56,
   "metadata": {},
   "outputs": [
    {
     "name": "stdout",
     "output_type": "stream",
     "text": [
      "you are beautiful is Acceptable comment\n"
     ]
    }
   ],
   "source": [
    "if model.predict(vect.transform(['you are beautiful']))[0]==0:\n",
    "    print('you are beautiful is Not acceptable comment')\n",
    "else:\n",
    "    print('you are beautiful is Acceptable comment')"
   ]
  },
  {
   "cell_type": "markdown",
   "metadata": {},
   "source": [
    "### Using KNN"
   ]
  },
  {
   "cell_type": "code",
   "execution_count": 57,
   "metadata": {},
   "outputs": [],
   "source": [
    "from sklearn.neighbors import KNeighborsClassifier"
   ]
  },
  {
   "cell_type": "code",
   "execution_count": 58,
   "metadata": {},
   "outputs": [],
   "source": [
    "model1=KNeighborsClassifier().fit(features_train_vectorized, labels_train)"
   ]
  },
  {
   "cell_type": "code",
   "execution_count": 59,
   "metadata": {},
   "outputs": [],
   "source": [
    "predictions = model1.predict(vect.transform(features_test))"
   ]
  },
  {
   "cell_type": "code",
   "execution_count": 60,
   "metadata": {},
   "outputs": [],
   "source": [
    "knn_score=roc_auc_score(labels_test, predictions)"
   ]
  },
  {
   "cell_type": "code",
   "execution_count": 61,
   "metadata": {},
   "outputs": [
    {
     "data": {
      "text/plain": [
       "0.6703973181051198"
      ]
     },
     "execution_count": 61,
     "metadata": {},
     "output_type": "execute_result"
    }
   ],
   "source": [
    "knn_score"
   ]
  },
  {
   "cell_type": "markdown",
   "metadata": {},
   "source": [
    "### Using Decision Tree Classifier"
   ]
  },
  {
   "cell_type": "code",
   "execution_count": 62,
   "metadata": {},
   "outputs": [],
   "source": [
    "from sklearn.tree import DecisionTreeClassifier"
   ]
  },
  {
   "cell_type": "code",
   "execution_count": 63,
   "metadata": {},
   "outputs": [],
   "source": [
    "model2=DecisionTreeClassifier().fit(features_train_vectorized, labels_train)"
   ]
  },
  {
   "cell_type": "code",
   "execution_count": 64,
   "metadata": {},
   "outputs": [],
   "source": [
    "predictions = model2.predict(vect.transform(features_test))"
   ]
  },
  {
   "cell_type": "code",
   "execution_count": 65,
   "metadata": {},
   "outputs": [],
   "source": [
    "dtc_score=roc_auc_score(labels_test, predictions)"
   ]
  },
  {
   "cell_type": "code",
   "execution_count": 66,
   "metadata": {},
   "outputs": [
    {
     "data": {
      "text/plain": [
       "0.9135662847500771"
      ]
     },
     "execution_count": 66,
     "metadata": {},
     "output_type": "execute_result"
    }
   ],
   "source": [
    "dtc_score"
   ]
  },
  {
   "cell_type": "markdown",
   "metadata": {},
   "source": [
    "### Using Random Forest Classifier"
   ]
  },
  {
   "cell_type": "code",
   "execution_count": 67,
   "metadata": {},
   "outputs": [],
   "source": [
    "from sklearn.ensemble import RandomForestClassifier"
   ]
  },
  {
   "cell_type": "code",
   "execution_count": 68,
   "metadata": {},
   "outputs": [],
   "source": [
    "model3=RandomForestClassifier().fit(features_train_vectorized, labels_train)"
   ]
  },
  {
   "cell_type": "code",
   "execution_count": 69,
   "metadata": {},
   "outputs": [],
   "source": [
    "predictions = model3.predict(vect.transform(features_test))"
   ]
  },
  {
   "cell_type": "code",
   "execution_count": 70,
   "metadata": {},
   "outputs": [],
   "source": [
    "tfc_score=roc_auc_score(labels_test, predictions)"
   ]
  },
  {
   "cell_type": "code",
   "execution_count": 71,
   "metadata": {},
   "outputs": [
    {
     "data": {
      "text/plain": [
       "0.7860963354082986"
      ]
     },
     "execution_count": 71,
     "metadata": {},
     "output_type": "execute_result"
    }
   ],
   "source": [
    "tfc_score"
   ]
  },
  {
   "cell_type": "code",
   "execution_count": 72,
   "metadata": {},
   "outputs": [],
   "source": [
    "ls1 = ['Logistic regression',lr_score]\n",
    "ls2=['K nearest eighbours',knn_score]\n",
    "ls3=['Decision tree classifier',dtc_score]\n",
    "ls4=['Random forest classifier',tfc_score]\n",
    "\n",
    "df_score = pd.DataFrame([ls1,ls2,ls3,ls4],columns=['Algorithms','score'])"
   ]
  },
  {
   "cell_type": "code",
   "execution_count": 73,
   "metadata": {},
   "outputs": [
    {
     "data": {
      "text/html": [
       "<div>\n",
       "<style scoped>\n",
       "    .dataframe tbody tr th:only-of-type {\n",
       "        vertical-align: middle;\n",
       "    }\n",
       "\n",
       "    .dataframe tbody tr th {\n",
       "        vertical-align: top;\n",
       "    }\n",
       "\n",
       "    .dataframe thead th {\n",
       "        text-align: right;\n",
       "    }\n",
       "</style>\n",
       "<table border=\"1\" class=\"dataframe\">\n",
       "  <thead>\n",
       "    <tr style=\"text-align: right;\">\n",
       "      <th></th>\n",
       "      <th>Algorithms</th>\n",
       "      <th>score</th>\n",
       "    </tr>\n",
       "  </thead>\n",
       "  <tbody>\n",
       "    <tr>\n",
       "      <th>0</th>\n",
       "      <td>Logistic regression</td>\n",
       "      <td>0.921658</td>\n",
       "    </tr>\n",
       "    <tr>\n",
       "      <th>1</th>\n",
       "      <td>K nearest eighbours</td>\n",
       "      <td>0.670397</td>\n",
       "    </tr>\n",
       "    <tr>\n",
       "      <th>2</th>\n",
       "      <td>Decision tree classifier</td>\n",
       "      <td>0.913566</td>\n",
       "    </tr>\n",
       "    <tr>\n",
       "      <th>3</th>\n",
       "      <td>Random forest classifier</td>\n",
       "      <td>0.786096</td>\n",
       "    </tr>\n",
       "  </tbody>\n",
       "</table>\n",
       "</div>"
      ],
      "text/plain": [
       "                 Algorithms     score\n",
       "0       Logistic regression  0.921658\n",
       "1       K nearest eighbours  0.670397\n",
       "2  Decision tree classifier  0.913566\n",
       "3  Random forest classifier  0.786096"
      ]
     },
     "execution_count": 73,
     "metadata": {},
     "output_type": "execute_result"
    }
   ],
   "source": [
    "df_score"
   ]
  },
  {
   "cell_type": "code",
   "execution_count": 74,
   "metadata": {},
   "outputs": [
    {
     "data": {
      "image/png": "[encoded data removed]",
      "text/plain": [
       "<Figure size 432x288 with 1 Axes>"
      ]
     },
     "metadata": {
      "needs_background": "light"
     },
     "output_type": "display_data"
    }
   ],
   "source": [
    "plt.plot(df_score['Algorithms'],df_score['score'],'b--',marker='s', markersize=8, markerfacecolor=\"yellow\", markeredgewidth=3, markeredgecolor=\"green\")\n",
    "plt.xlabel('Algorithms')\n",
    "plt.ylabel('Score')\n",
    "plt.title('Analysis of algorithm by scores')\n",
    "plt.show()"
   ]
  },
  {
   "cell_type": "markdown",
   "metadata": {},
   "source": [
    "### As shown above, Logistic regression is better than other"
   ]
  }
 ],
 "metadata": {
  "kernelspec": {
   "display_name": "Python 3",
   "language": "python",
   "name": "python3"
  },
  "language_info": {
   "codemirror_mode": {
    "name": "ipython",
    "version": 3
   },
   "file_extension": ".py",
   "mimetype": "text/x-python",
   "name": "python",
   "nbconvert_exporter": "python",
   "pygments_lexer": "ipython3",
   "version": "3.7.6"
  }
 },
 "nbformat": 4,
 "nbformat_minor": 4
}
